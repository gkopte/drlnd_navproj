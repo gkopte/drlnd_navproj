{
 "cells": [
  {
   "attachments": {},
   "cell_type": "markdown",
   "metadata": {},
   "source": [
    "# Navigation\n",
    "\n",
    "---\n",
    "\n",
    "In this notebook, you will find a solution for the first project of the [Deep Reinforcement Learning Nanodegree](https://www.udacity.com/course/deep-reinforcement-learning-nanodegree--nd893). This project involves the use of the Unity ML-Agents environment.\n",
    "\n",
    "Firstly, you need to choose how you want to run this notebook:\n",
    "\n",
    "- Set 'run_mode' to \"train\" if you want to train a new agent from scratch.\n",
    "- Alternatively, set 'run_mode' to \"test\" if you want to evaluate a pre-trained model.\n",
    "\n",
    "If you prefer not to visualize the agent during the training and testing process, change 'no_rendering' to True.\n"
   ]
  },
  {
   "cell_type": "code",
   "execution_count": 1,
   "metadata": {},
   "outputs": [],
   "source": [
    "# Select the 'train' to train an agent from scratch or 'test' to test a saved agent.\n",
    "run_mode = 'test'  \n",
    "\n",
    "# Set to True to visualize the agent during evaluation.\n",
    "no_rendering = True   \n"
   ]
  },
  {
   "attachments": {},
   "cell_type": "markdown",
   "metadata": {},
   "source": [
    "### 1. Start the Environment\n",
    "\n",
    "We begin by importing some necessary packages."
   ]
  },
  {
   "cell_type": "code",
   "execution_count": 2,
   "metadata": {},
   "outputs": [],
   "source": [
    "from unityagents import UnityEnvironment\n",
    "import numpy as np\n",
    "from collections import deque\n",
    "import random\n",
    "import torch\n",
    "import numpy as np\n",
    "from dqn_agent import Agent\n",
    "\n",
    "\n",
    "import matplotlib.pyplot as plt\n",
    "%matplotlib inline"
   ]
  },
  {
   "attachments": {},
   "cell_type": "markdown",
   "metadata": {},
   "source": [
    "Next, we're going to start the environment! **_Before you run the code cell below_**, ensure the `file_name` parameter matches the location of the Unity environment that you downloaded.\n",
    "\n",
    "- **Mac**: `\"path/to/Banana.app\"`\n",
    "- **Windows** (x86): `\"path/to/Banana_Windows_x86/Banana.exe\"`\n",
    "- **Windows** (x86_64): `\"path/to/Banana_Windows_x86_64/Banana.exe\"`\n",
    "- **Linux** (x86): `\"path/to/Banana_Linux/Banana.x86\"`\n",
    "- **Linux** (x86_64): `\"path/to/Banana_Linux/Banana.x86_64\"`\n",
    "- **Linux** (x86, headless): `\"path/to/Banana_Linux_NoVis/Banana.x86\"`\n",
    "- **Linux** (x86_64, headless): `\"path/to/Banana_Linux_NoVis/Banana.x86_64\"`\n",
    "\n",
    "Since I'm running this on Windows 10 64-bit, and the environment is located in \"./Banana_Windows_x86_64/\", I'm going to set my environment like so:\n",
    "\n",
    "```python\n",
    "env = UnityEnvironment(file_name=\"./Banana_Windows_x86_64/banana.exe\")\n"
   ]
  },
  {
   "cell_type": "code",
   "execution_count": 3,
   "metadata": {},
   "outputs": [
    {
     "name": "stderr",
     "output_type": "stream",
     "text": [
      "INFO:unityagents:\n",
      "'Academy' started successfully!\n",
      "Unity Academy name: Academy\n",
      "        Number of Brains: 1\n",
      "        Number of External Brains : 1\n",
      "        Lesson number : 0\n",
      "        Reset Parameters :\n",
      "\t\t\n",
      "Unity brain name: BananaBrain\n",
      "        Number of Visual Observations (per agent): 0\n",
      "        Vector Observation space type: continuous\n",
      "        Vector Observation space size (per agent): 37\n",
      "        Number of stacked Vector Observation: 1\n",
      "        Vector Action space type: discrete\n",
      "        Vector Action space size (per agent): 4\n",
      "        Vector Action descriptions: , , , \n"
     ]
    }
   ],
   "source": [
    "env = UnityEnvironment(file_name=\"./Banana_Windows_x86_64/banana.exe\", no_graphics=no_rendering)"
   ]
  },
  {
   "attachments": {},
   "cell_type": "markdown",
   "metadata": {},
   "source": [
    "Environments contain **_brains_** which are responsible for deciding the actions of their associated agents. Here we check for the first brain available, and set it as the default brain we will be controlling from Python."
   ]
  },
  {
   "cell_type": "code",
   "execution_count": 4,
   "metadata": {},
   "outputs": [],
   "source": [
    "# get the default brain\n",
    "brain_name = env.brain_names[0]\n",
    "brain = env.brains[brain_name]"
   ]
  },
  {
   "attachments": {},
   "cell_type": "markdown",
   "metadata": {},
   "source": [
    "### 2. Examine the State and Action Spaces\n",
    "\n",
    "The simulation contains a single agent that navigates a large environment.  At each time step, it has four actions at its disposal:\n",
    "- `0` - walk forward \n",
    "- `1` - walk backward\n",
    "- `2` - turn left\n",
    "- `3` - turn right\n",
    "\n",
    "The state space has `37` dimensions and contains the agent's velocity, along with ray-based perception of objects around agent's forward direction.  A reward of `+1` is provided for collecting a yellow banana, and a reward of `-1` is provided for collecting a blue banana. \n",
    "\n",
    "Run the code cell below to print some information about the environment."
   ]
  },
  {
   "cell_type": "code",
   "execution_count": 5,
   "metadata": {},
   "outputs": [
    {
     "name": "stdout",
     "output_type": "stream",
     "text": [
      "Number of agents: 1\n",
      "Number of actions: 4\n",
      "States look like: [1.         0.         0.         0.         0.84408134 0.\n",
      " 0.         1.         0.         0.0748472  0.         1.\n",
      " 0.         0.         0.25755    1.         0.         0.\n",
      " 0.         0.74177343 0.         1.         0.         0.\n",
      " 0.25854847 0.         0.         1.         0.         0.09355672\n",
      " 0.         1.         0.         0.         0.31969345 0.\n",
      " 0.        ]\n",
      "States have length: 37\n"
     ]
    }
   ],
   "source": [
    "# reset the environment\n",
    "env_info = env.reset(train_mode=False)[brain_name]\n",
    "\n",
    "# number of agents in the environment\n",
    "print('Number of agents:', len(env_info.agents))\n",
    "\n",
    "# number of actions\n",
    "action_size = brain.vector_action_space_size\n",
    "print('Number of actions:', action_size)\n",
    "\n",
    "# examine the state space \n",
    "state = env_info.vector_observations[0]\n",
    "print('States look like:', state)\n",
    "state_size = len(state)\n",
    "print('States have length:', state_size)"
   ]
  },
  {
   "attachments": {},
   "cell_type": "markdown",
   "metadata": {},
   "source": [
    "### 4. Creating a Smart Agent\n",
    "\n",
    "In this section, we will instantiate the Deep Q-Learning Agent, defined in `dqn_agent.py`. We only need to specify the state size, the action size, and a seed for generating random numbers.\n"
   ]
  },
  {
   "cell_type": "code",
   "execution_count": 6,
   "metadata": {},
   "outputs": [],
   "source": [
    "from dqn_agent import Agent\n",
    "\n",
    "agent = Agent(state_size=state_size, action_size=action_size, seed=0)"
   ]
  },
  {
   "attachments": {},
   "cell_type": "markdown",
   "metadata": {},
   "source": [
    "### 5. Training Loop\n",
    "\n",
    "In this step, we will train our agent using the 'dqn' function. The training will run for 'n_episodes' or until the agent achieves an average score of 15 or higher over a span of 100 episodes. After training, a graph is generated to provide a visual representation of the agent's performance across the episodes, illustrating how the score has evolved over the course of training.\n",
    "\n",
    "\n"
   ]
  },
  {
   "cell_type": "code",
   "execution_count": 7,
   "metadata": {},
   "outputs": [],
   "source": [
    "if run_mode == 'train':\n",
    "    def dqn(n_episodes=2000, max_t=1000, eps_start=1.0, eps_end=0.01, eps_decay=0.995):\n",
    "        \"\"\"Deep Q-Learning.\n",
    "\n",
    "        Params\n",
    "        ======\n",
    "            n_episodes (int): maximum number of training episodes\n",
    "            max_t (int): maximum number of timesteps per episode\n",
    "            eps_start (float): starting value of epsilon, for epsilon-greedy action selection\n",
    "            eps_end (float): minimum value of epsilon\n",
    "            eps_decay (float): multiplicative factor (per episode) for decreasing epsilon\n",
    "        \"\"\"\n",
    "        scores = []                        # list containing scores from each episode\n",
    "        scores_window = deque(maxlen=100)  # last 100 scores\n",
    "        eps = eps_start                    # initialize epsilon\n",
    "        for i_episode in range(1, n_episodes+1):\n",
    "            env_info = env.reset(train_mode=True)[brain_name] # reset the environment\n",
    "            state = env_info.vector_observations[0]            # get the current state\n",
    "\n",
    "            score = 0\n",
    "            for t in range(max_t):\n",
    "                action = agent.act(state, eps)\n",
    "                action = int(action)\n",
    "                # print(action)\n",
    "                # print(type(action))\n",
    "                # next_state, reward, done, _ = env.step(action)\n",
    "                env_info = env.step(action)[brain_name]        # send the action to the environment\n",
    "                next_state = env_info.vector_observations[0]   # get the next state\n",
    "                reward = env_info.rewards[0]                   # get the reward\n",
    "                done = env_info.local_done[0]                  # see if episode has finished\n",
    "\n",
    "                agent.step(state, action, reward, next_state, done)\n",
    "                state = next_state\n",
    "                score += reward\n",
    "                if done:\n",
    "                    break \n",
    "            scores_window.append(score)       # save most recent score\n",
    "            scores.append(score)              # save most recent score\n",
    "            eps = max(eps_end, eps_decay*eps) # decrease epsilon\n",
    "            print('\\rEpisode {}\\tAverage Score: {:.2f}'.format(i_episode, np.mean(scores_window)), end=\"\")\n",
    "            if i_episode % 10 == 0:\n",
    "                print('\\rEpisode {}\\tAverage Score: {:.2f}'.format(i_episode, np.mean(scores_window)))\n",
    "            if np.mean(scores_window)>=15:\n",
    "                print('\\nEnvironment solved in {:d} episodes!\\tAverage Score: {:.2f}'.format(i_episode-100, np.mean(scores_window)))\n",
    "                torch.save(agent.qnetwork_local.state_dict(), 'checkpoint.pth')\n",
    "                break\n",
    "        return scores\n",
    "\n",
    "    scores = dqn()\n",
    "\n",
    "    # plot the scores\n",
    "    fig = plt.figure()\n",
    "    ax = fig.add_subplot(111)\n",
    "    plt.plot(np.arange(len(scores)), scores)\n",
    "    plt.ylabel('Score')\n",
    "    plt.xlabel('Episode #')\n",
    "    plt.show()\n",
    "\n",
    "else:\n",
    "    # Load the weights\n",
    "    agent.qnetwork_local.load_state_dict(torch.load('checkpoint.pth'))\n"
   ]
  },
  {
   "attachments": {},
   "cell_type": "markdown",
   "metadata": {},
   "source": [
    "![Learning curve](./scores.png)\n"
   ]
  },
  {
   "attachments": {},
   "cell_type": "markdown",
   "metadata": {},
   "source": [
    "### 6. Testing\n",
    "\n",
    "In this section, we evaluate the performance of the trained model over 100 episodes. Our agent is considered successful if it achieves an average score of 13 or higher. If the average score falls below this threshold, it indicates that the agent requires further training or parameter tuning.\n"
   ]
  },
  {
   "cell_type": "code",
   "execution_count": 9,
   "metadata": {},
   "outputs": [
    {
     "name": "stdout",
     "output_type": "stream",
     "text": [
      "Episode 1 Score: 22.0\n",
      "Episode 2 Score: 17.0\n",
      "Episode 3 Score: 15.0\n",
      "Episode 4 Score: 18.0\n",
      "Episode 5 Score: 20.0\n",
      "Episode 6 Score: 19.0\n",
      "Episode 7 Score: 20.0\n",
      "Episode 8 Score: 15.0\n",
      "Episode 9 Score: 0.0\n",
      "Episode 10 Score: 21.0\n",
      "Episode 11 Score: 18.0\n",
      "Episode 12 Score: 23.0\n",
      "Episode 13 Score: 17.0\n",
      "Episode 14 Score: 17.0\n",
      "Episode 15 Score: 19.0\n",
      "Episode 16 Score: 14.0\n",
      "Episode 17 Score: 19.0\n",
      "Episode 18 Score: 17.0\n",
      "Episode 19 Score: 17.0\n",
      "Episode 20 Score: 15.0\n",
      "Episode 21 Score: 15.0\n",
      "Episode 22 Score: 10.0\n",
      "Episode 23 Score: 19.0\n",
      "Episode 24 Score: 24.0\n",
      "Episode 25 Score: 11.0\n",
      "Episode 26 Score: 16.0\n",
      "Episode 27 Score: 19.0\n",
      "Episode 28 Score: 19.0\n",
      "Episode 29 Score: 18.0\n",
      "Episode 30 Score: 18.0\n",
      "Episode 31 Score: 23.0\n",
      "Episode 32 Score: 10.0\n",
      "Episode 33 Score: 18.0\n",
      "Episode 34 Score: 19.0\n",
      "Episode 35 Score: 13.0\n",
      "Episode 36 Score: 2.0\n",
      "Episode 37 Score: 12.0\n",
      "Episode 38 Score: 20.0\n",
      "Episode 39 Score: 18.0\n",
      "Episode 40 Score: 4.0\n",
      "Episode 41 Score: 20.0\n",
      "Episode 42 Score: 13.0\n",
      "Episode 43 Score: 5.0\n",
      "Episode 44 Score: 18.0\n",
      "Episode 45 Score: 6.0\n",
      "Episode 46 Score: 17.0\n",
      "Episode 47 Score: 17.0\n",
      "Episode 48 Score: 10.0\n",
      "Episode 49 Score: 13.0\n",
      "Episode 50 Score: 15.0\n",
      "Episode 51 Score: 9.0\n",
      "Episode 52 Score: 19.0\n",
      "Episode 53 Score: 22.0\n",
      "Episode 54 Score: 20.0\n",
      "Episode 55 Score: 14.0\n",
      "Episode 56 Score: 19.0\n",
      "Episode 57 Score: 15.0\n",
      "Episode 58 Score: 20.0\n",
      "Episode 59 Score: 21.0\n",
      "Episode 60 Score: 18.0\n",
      "Episode 61 Score: 15.0\n",
      "Episode 62 Score: 13.0\n",
      "Episode 63 Score: 14.0\n",
      "Episode 64 Score: 18.0\n",
      "Episode 65 Score: 22.0\n",
      "Episode 66 Score: 17.0\n",
      "Episode 67 Score: 16.0\n",
      "Episode 68 Score: 16.0\n",
      "Episode 69 Score: 21.0\n",
      "Episode 70 Score: 21.0\n",
      "Episode 71 Score: 16.0\n",
      "Episode 72 Score: 22.0\n",
      "Episode 73 Score: 17.0\n",
      "Episode 74 Score: 20.0\n",
      "Episode 75 Score: 16.0\n",
      "Episode 76 Score: 23.0\n",
      "Episode 77 Score: 13.0\n",
      "Episode 78 Score: 19.0\n",
      "Episode 79 Score: 15.0\n",
      "Episode 80 Score: 15.0\n",
      "Episode 81 Score: 19.0\n",
      "Episode 82 Score: 16.0\n",
      "Episode 83 Score: 12.0\n",
      "Episode 84 Score: 18.0\n",
      "Episode 85 Score: 18.0\n",
      "Episode 86 Score: 15.0\n",
      "Episode 87 Score: 7.0\n",
      "Episode 88 Score: 14.0\n",
      "Episode 89 Score: 12.0\n",
      "Episode 90 Score: 17.0\n",
      "Episode 91 Score: 14.0\n",
      "Episode 92 Score: 14.0\n",
      "Episode 93 Score: 22.0\n",
      "Episode 94 Score: 10.0\n",
      "Episode 95 Score: 17.0\n",
      "Episode 96 Score: 15.0\n",
      "Episode 97 Score: 19.0\n",
      "Episode 98 Score: 23.0\n",
      "Episode 99 Score: 21.0\n",
      "Episode 100 Score: 16.0\n",
      "Smart Agent PASSED :) Average score =  16.3\n"
     ]
    }
   ],
   "source": [
    "n_episodes = 100  \n",
    "episodes_score = [] \n",
    "for i_episode in range(1, n_episodes+1):\n",
    "    env_info = env.reset(train_mode=False)[brain_name] # reset the environment\n",
    "    state = env_info.vector_observations[0]            # get the current state   \n",
    "    score = 0                                   # initialize the score\n",
    "    \n",
    "    while True:\n",
    "        eps=0.01\n",
    "        action = agent.act(state, eps)\n",
    "        action = int(action)\n",
    "        env_info = env.step(action)[brain_name]        # send the action to the environment\n",
    "        next_state = env_info.vector_observations[0]   # get the next state\n",
    "        reward = env_info.rewards[0]                   # get the reward\n",
    "        done = env_info.local_done[0]                  # see if episode has finished\n",
    "        score += reward                                # update the score\n",
    "        state = next_state                             # roll over the state to next time step\n",
    "        if done:                                       # exit loop if episode finished\n",
    "            break\n",
    "    episodes_score.append(score)\n",
    "    print(\"Episode {} Score: {}\".format(i_episode, score))\n",
    "\n",
    "score_avg = sum(episodes_score) / len(episodes_score)\n",
    "if score_avg > 13:\n",
    "    print(\"Smart Agent PASSED :) Average score = \", score_avg)\n",
    "else:\n",
    "    print(\"Smart Agent FAILED :( Average score = \", score_avg)"
   ]
  },
  {
   "cell_type": "code",
   "execution_count": 10,
   "metadata": {},
   "outputs": [],
   "source": [
    "env.close()"
   ]
  }
 ],
 "metadata": {
  "kernelspec": {
   "display_name": "drlnd",
   "language": "python",
   "name": "python3"
  },
  "language_info": {
   "codemirror_mode": {
    "name": "ipython",
    "version": 3
   },
   "file_extension": ".py",
   "mimetype": "text/x-python",
   "name": "python",
   "nbconvert_exporter": "python",
   "pygments_lexer": "ipython3",
   "version": "3.6.13"
  }
 },
 "nbformat": 4,
 "nbformat_minor": 2
}
